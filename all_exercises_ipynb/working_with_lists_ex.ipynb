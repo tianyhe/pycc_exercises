{
 "cells": [
  {
   "cell_type": "markdown",
   "metadata": {},
   "source": [
    "### Examples"
   ]
  },
  {
   "cell_type": "code",
   "execution_count": null,
   "metadata": {},
   "outputs": [],
   "source": [
    "# step size to skip number in a list\n",
    "even_number = list(range(2, 11, 2))\n",
    "print(even_number)\n",
    "\n",
    "# make a list of the first 10 square number \n",
    "squares = []\n",
    "for value in range(1,11):\n",
    "    squares.append(value**2)\n",
    "print(squares)\n",
    "\n",
    "# list comprehensions\n",
    "squares = [value**2 for value in range(1,11)]\n",
    "print(squares)"
   ]
  },
  {
   "cell_type": "markdown",
   "metadata": {},
   "source": [
    "### 4.1 -Pizzas"
   ]
  },
  {
   "cell_type": "code",
   "execution_count": null,
   "metadata": {},
   "outputs": [],
   "source": [
    "pizzas = ['Mozeralla', 'Hawaiian', 'Four Cheese']\n",
    "for pizza in pizzas:\n",
    "    print(pizza)\n",
    "    print(f'I like {pizza} pizza\\n')\n",
    "print('I really like pizza\\n')"
   ]
  },
  {
   "cell_type": "markdown",
   "metadata": {},
   "source": [
    "### 4.2 - Animals"
   ]
  },
  {
   "cell_type": "code",
   "execution_count": null,
   "metadata": {},
   "outputs": [],
   "source": [
    "animals = ['cat', 'dog', 'tiger']\n",
    "for animal in animals:\n",
    "    print(f'A {animal} will make a good pet!\\n')\n",
    "print('Any of these animals would make a great pet!\\n')"
   ]
  },
  {
   "cell_type": "markdown",
   "metadata": {},
   "source": [
    "### 4.3 - Counting to Twenty"
   ]
  },
  {
   "cell_type": "code",
   "execution_count": null,
   "metadata": {},
   "outputs": [],
   "source": [
    "for num in range(1, 21):\n",
    "    print(num)"
   ]
  },
  {
   "cell_type": "markdown",
   "metadata": {},
   "source": [
    "### 4.4 - One Million"
   ]
  },
  {
   "cell_type": "code",
   "execution_count": null,
   "metadata": {},
   "outputs": [],
   "source": [
    "nums = list(range(1, 1000001))\n",
    "# for num in nums:\n",
    "#     print(num)"
   ]
  },
  {
   "cell_type": "markdown",
   "metadata": {},
   "source": [
    "### 4.5 - Summing a Million"
   ]
  },
  {
   "cell_type": "code",
   "execution_count": null,
   "metadata": {},
   "outputs": [],
   "source": [
    "print('Min:', min(nums))\n",
    "print('Max:', max(nums))\n",
    "print('Sum:', sum(nums))"
   ]
  },
  {
   "cell_type": "markdown",
   "metadata": {},
   "source": [
    "### 4.6 - Odd Numbers"
   ]
  },
  {
   "cell_type": "code",
   "execution_count": null,
   "metadata": {},
   "outputs": [],
   "source": [
    "odd_numbers = list(range(1, 20, 2))\n",
    "for odd in odd_numbers:\n",
    "    print(odd)"
   ]
  },
  {
   "cell_type": "markdown",
   "metadata": {},
   "source": [
    "### 4.7 - Threes"
   ]
  },
  {
   "cell_type": "code",
   "execution_count": null,
   "metadata": {},
   "outputs": [],
   "source": [
    "mult_list = list(range(3, 31, 3))\n",
    "for num in mult_list:\n",
    "    print(num)"
   ]
  },
  {
   "cell_type": "markdown",
   "metadata": {},
   "source": [
    "### 4.8 - Cubes"
   ]
  },
  {
   "cell_type": "code",
   "execution_count": null,
   "metadata": {},
   "outputs": [],
   "source": [
    "cubes = []\n",
    "for num in range(1, 11):\n",
    "    cube = num ** 3\n",
    "    cubes.append(cube)\n",
    "    print(cube)"
   ]
  },
  {
   "cell_type": "markdown",
   "metadata": {},
   "source": [
    "### 4.9 - list comprehension"
   ]
  },
  {
   "cell_type": "code",
   "execution_count": null,
   "metadata": {},
   "outputs": [],
   "source": [
    "cubes_list = [value**3 for value in range(1, 11)]\n",
    "print(cubes_list)"
   ]
  },
  {
   "cell_type": "markdown",
   "metadata": {},
   "source": [
    "### 4.10 - Slices"
   ]
  },
  {
   "cell_type": "code",
   "execution_count": null,
   "metadata": {},
   "outputs": [],
   "source": [
    "locations = ['barcelona', 'montreux', 'amsterdam', 'los angles', 'cuba']\n",
    "print('The first threee items in the list are:', locations[:3])\n",
    "print('Three items from the middle of the list are:', locations[1:4])\n",
    "print('The last three items in the list are:', locations[-3:])"
   ]
  },
  {
   "cell_type": "markdown",
   "metadata": {},
   "source": [
    "### 4.11 - My Pizzas, Your Pizzas"
   ]
  },
  {
   "cell_type": "code",
   "execution_count": null,
   "metadata": {},
   "outputs": [],
   "source": [
    "my_pizzas = ['Mozeralla', 'Hawaiian', 'Four Cheese']\n",
    "friend_pizzas = my_pizzas[:]\n",
    "my_pizzas.append('Pepperoni')\n",
    "friend_pizzas.append('Four Seasons')\n",
    "print('\\nMy favorite pizzas are:')\n",
    "for pizza in my_pizzas:\n",
    "    print(pizza)\n",
    "print(\"\\nMy friend's favorite pizzas are:\")\n",
    "for pizza in friend_pizzas:\n",
    "    print(pizza)"
   ]
  },
  {
   "cell_type": "markdown",
   "metadata": {},
   "source": [
    "### 4.12 - Buffet"
   ]
  },
  {
   "cell_type": "code",
   "execution_count": null,
   "metadata": {},
   "outputs": [],
   "source": [
    "menu = ('egg', 'water', 'rice', 'beef', 'pork')\n",
    "print('Origina menu:\\n')\n",
    "for food in menu:\n",
    "    print(food)\n",
    "menu = ('egg', 'water', 'rice', 'chicken', 'lamb')\n",
    "print('Revised Menu:\\n')\n",
    "for food in menu:\n",
    "    print(food)"
   ]
  }
 ],
 "metadata": {
  "language_info": {
   "codemirror_mode": {
    "name": "ipython",
    "version": 3
   },
   "file_extension": ".py",
   "mimetype": "text/x-python",
   "name": "python",
   "nbconvert_exporter": "python",
   "pygments_lexer": "ipython3",
   "version": 3
  },
  "orig_nbformat": 2
 },
 "nbformat": 4,
 "nbformat_minor": 2
}
{
 "cells": [
  {
   "cell_type": "markdown",
   "metadata": {},
   "source": [
    "### 8.1 - Message"
   ]
  },
  {
   "cell_type": "code",
   "execution_count": null,
   "metadata": {},
   "outputs": [],
   "source": [
    "def display_function():\n",
    "    \"\"\"Display a simple sentence\"\"\"\n",
    "    print('I am learning Functions in this chapter')"
   ]
  },
  {
   "cell_type": "markdown",
   "metadata": {},
   "source": [
    "### 8.2 - FavoriteBook"
   ]
  },
  {
   "cell_type": "code",
   "execution_count": null,
   "metadata": {},
   "outputs": [],
   "source": [
    "def favorite_book(title):\n",
    "    \"\"\"accept one parameter and print the message assoicated with it\"\"\"\n",
    "    print(f\"One of my favorite books is {title}\")\n",
    "\n",
    "favorite_book('Alice in Wonderland')"
   ]
  },
  {
   "cell_type": "markdown",
   "metadata": {},
   "source": [
    "### 8.3 - T-Shirts"
   ]
  },
  {
   "cell_type": "code",
   "execution_count": null,
   "metadata": {},
   "outputs": [],
   "source": [
    "def make_shirt(size, message):\n",
    "    \"\"\"accepts a size and the text of the message that should printed on the shirt, then print a sentence summarizing the information\"\"\"\n",
    "    print(f\"\\nThe size of the T-shirt is {size}.\")\n",
    "    print(f\"The message should printed on the shirt is '{message}'.\")\n",
    "    # positional arguments\n",
    "make_shirt('Large', 'Rico')\n",
    "    # keywords arguments\n",
    "make_shirt(message='Liz', size='Small')"
   ]
  },
  {
   "cell_type": "markdown",
   "metadata": {},
   "source": [
    "### 8.4 - Large Shirts"
   ]
  },
  {
   "cell_type": "code",
   "execution_count": null,
   "metadata": {},
   "outputs": [],
   "source": [
    "def make_shirt_default(size='Large', message='I love Python'):\n",
    "    \"\"\"make_shirt function with default size value and message value\"\"\"\n",
    "    print(f\"\\nThe size of the T-shirt is {size}.\")\n",
    "    print(f\"The message should printed on the shirt is '{message}'.\")\n",
    "\n",
    "make_shirt_default()\n",
    "make_shirt_default(size='Medium')\n",
    "make_shirt_default(size='Small', message='I love Computer Science')"
   ]
  },
  {
   "cell_type": "markdown",
   "metadata": {},
   "source": [
    "### 8.5 - Cities"
   ]
  },
  {
   "cell_type": "code",
   "execution_count": null,
   "metadata": {},
   "outputs": [],
   "source": [
    "def describe_city(city, country='China'):\n",
    "    \"\"\"accepts the name of the city and its country then print a simple sentence. The default value of country is China.\"\"\"\n",
    "    print(f\"\\n{city.title()} is in {country.title()}.\")\n",
    "\n",
    "describe_city('guangzhou')\n",
    "describe_city('shanghai')\n",
    "describe_city('lausanne', country='Switzerland')\n",
    "describe_city(city='Geneva', country='switzerland')"
   ]
  },
  {
   "cell_type": "markdown",
   "metadata": {},
   "source": [
    "### 8.6 - City Names"
   ]
  },
  {
   "cell_type": "code",
   "execution_count": null,
   "metadata": {},
   "outputs": [],
   "source": [
    "def city_country(city, country):\n",
    "    \"\"\"Return a neatly formatted string with city and country\"\"\"\n",
    "    msg = f\"{city}, {country}\"\n",
    "    return msg\n",
    "\n",
    "pairs = city_country('Santiago', 'Chile')\n",
    "print(pairs)\n",
    "pairs = city_country('Los Angles', 'USA')\n",
    "print(pairs)\n",
    "pairs = city_country('Shanghai', 'China')\n",
    "print(pairs)"
   ]
  },
  {
   "cell_type": "markdown",
   "metadata": {},
   "source": [
    "### 8.7 - Album"
   ]
  },
  {
   "cell_type": "code",
   "execution_count": null,
   "metadata": {},
   "outputs": [],
   "source": [
    "def make_album(artist_name, album_title, number_of_songs=None):\n",
    "    \"\"\"Return a dictionary of information about an album\"\"\"\n",
    "    if number_of_songs:\n",
    "        album = {'name': artist_name, 'title': album_title, 'numbers': number_of_songs}\n",
    "    else:\n",
    "        album = {'name': artist_name, 'title': album_title}\n",
    "    return album\n",
    "\n",
    "album_1 = make_album('Rico', 'I love Computer Science')\n",
    "print(album_1)\n",
    "album_2 = make_album('Liz', 'I love Interior Design')\n",
    "print(album_2)\n",
    "album_3 = make_album('Batu', 'I got a babe', '3')\n",
    "print(album_3)"
   ]
  },
  {
   "cell_type": "markdown",
   "metadata": {},
   "source": [
    "### 8.8 - User Albums"
   ]
  },
  {
   "cell_type": "code",
   "execution_count": null,
   "metadata": {},
   "outputs": [],
   "source": [
    "while True:\n",
    "    print('\\nPlease fill out the information of the album:')\n",
    "    print(\"(Enter 'q' at any time to quit)\")\n",
    "    a_name = input('Please enter the name of the artist: ')\n",
    "    if a_name == 'q':\n",
    "        break\n",
    "    a_title = input('Please enter the name of the album: ')\n",
    "    if a_title == 'q':\n",
    "        break\n",
    "    n_songs = input('Please enter the numbers of songs in the album: ')\n",
    "    if n_songs == 'q':\n",
    "        break\n",
    "    album = make_album(a_name, a_title, n_songs)\n",
    "    print(album)"
   ]
  },
  {
   "cell_type": "markdown",
   "metadata": {},
   "source": [
    "### 8.9 - Messages"
   ]
  },
  {
   "cell_type": "code",
   "execution_count": null,
   "metadata": {},
   "outputs": [],
   "source": [
    "def show_messages(text_messages):\n",
    "    \"\"\"print all the text messages in the list\"\"\"\n",
    "    for msg in text_messages:\n",
    "        print(msg)\n",
    "\n",
    "name_list = ['Rico', 'Liz', 'Batu', 'Chasel', 'Shawn']\n",
    "show_messages(name_list)"
   ]
  },
  {
   "cell_type": "markdown",
   "metadata": {},
   "source": [
    "### 8.10 - Sending Messages"
   ]
  },
  {
   "cell_type": "code",
   "execution_count": null,
   "metadata": {},
   "outputs": [],
   "source": [
    "def send_messages(unsent_messages, sent_messages):\n",
    "    \"\"\"\n",
    "    Stimulate printing each messages, until none are left\n",
    "    Move each messages to sent_messages after sending\n",
    "    \"\"\"\n",
    "    while unsent_messages:\n",
    "        current_messages = unsent_messages.pop()\n",
    "        print(f\"Sending messages: {current_messages}\")\n",
    "        sent_messages.append(current_messages)\n",
    "    \n",
    "unsent = ['I love Python', 'I love Computer Science', 'I love Programming']\n",
    "sent = []\n",
    "\n",
    "send_messages(unsent, sent)\n",
    "print('Unsent Messages:', unsent)\n",
    "print('Sent Messages:', sent)"
   ]
  },
  {
   "cell_type": "markdown",
   "metadata": {},
   "source": [
    "### 8.11 - Archived Messages"
   ]
  },
  {
   "cell_type": "code",
   "execution_count": null,
   "metadata": {},
   "outputs": [],
   "source": [
    "unsent = ['I love Python', 'I love Computer Science', 'I love Programming']\n",
    "sent = []\n",
    "    # Call the function send_messasges() with a copy of the list of messages\n",
    "send_messages(unsent[:], sent)\n",
    "print('Archived Messages:', unsent)\n",
    "print('Sent Messages:', sent)"
   ]
  },
  {
   "cell_type": "markdown",
   "metadata": {},
   "source": [
    "### 8.12 - Sandwiches"
   ]
  },
  {
   "cell_type": "code",
   "execution_count": null,
   "metadata": {},
   "outputs": [],
   "source": [
    "def make_sandwiches(*items):\n",
    "    \"\"\"Summarize the sandwiches we are about to make\"\"\"\n",
    "    print(f\"\\nMaking a sandwiches with the following topping:\")\n",
    "    for item in items:\n",
    "        print(f\"- {item}\")\n",
    "\n",
    "make_sandwiches('tomato', 'cheese', 'bacon', 'beef')\n",
    "make_sandwiches('watermelon', 'pork')\n",
    "make_sandwiches('lamb', 'love', 'caring')"
   ]
  },
  {
   "cell_type": "markdown",
   "metadata": {},
   "source": [
    "### 8.13 - User Profiles"
   ]
  },
  {
   "cell_type": "code",
   "execution_count": null,
   "metadata": {},
   "outputs": [],
   "source": [
    "def build_profile(first_name, last_name, **user_info):\n",
    "    \"\"\"Build a dictionary about everything we know about a user\"\"\"\n",
    "    user_info['first_name'] = first_name\n",
    "    user_info['last_name'] = last_name\n",
    "    return user_info\n",
    "\n",
    "profile = build_profile('Rico', 'He', location='Shanghai', age='23', school='EHL')\n",
    "print(f\"\\n{profile['first_name']}'s Profile: \", profile)"
   ]
  },
  {
   "cell_type": "markdown",
   "metadata": {},
   "source": [
    "### 8.14 - Cars"
   ]
  },
  {
   "cell_type": "code",
   "execution_count": null,
   "metadata": {},
   "outputs": [],
   "source": [
    "def make_car(manufacturer, model, **kwargs):\n",
    "    \"\"\"Build a dictionary about everything we know about a car\"\"\"\n",
    "    kwargs['manufacturer'] = manufacturer\n",
    "    kwargs['model'] = model\n",
    "    return kwargs\n",
    "\n",
    "car = make_car('subaru', 'outback', color='blue', tow_package=True)\n",
    "print('\\nInfo of the car:', car)"
   ]
  },
  {
   "cell_type": "markdown",
   "metadata": {},
   "source": [
    "### Importing functions"
   ]
  },
  {
   "cell_type": "code",
   "execution_count": null,
   "metadata": {},
   "outputs": [],
   "source": [
    "def show_messages(text_messages):\n",
    "    \"\"\"print all the text messages in the list\"\"\"\n",
    "    for msg in text_messages:\n",
    "        print(msg)\n",
    "\n",
    "\n",
    "def send_messages(unsent_messages, sent_messages):\n",
    "    \"\"\"\n",
    "    Stimulate printing each messages, until none are left\n",
    "    Move each messages to sent_messages after sending\n",
    "    \"\"\"\n",
    "    while unsent_messages:\n",
    "        current_messages = unsent_messages.pop()\n",
    "        print(f\"Sending messages: {current_messages}\")\n",
    "        sent_messages.append(current_messages)"
   ]
  },
  {
   "cell_type": "code",
   "execution_count": null,
   "metadata": {},
   "outputs": [],
   "source": [
    "# 1 - import message_funtions\n",
    "    # call: message_function.show_messages(unsent)\n",
    "# 2 - from message_funtions import show_messages, send_messages\n",
    "    # call: show_messages(unsent)\n",
    "# 3 - from message_funtions import show_messages as show, send_messages as send\n",
    "    # call: show(unsent)\n",
    "# 4 - from message_funtions import *\n",
    "    # call: show_message(unsent)\n",
    "\n",
    "import message_funtions as mf\n",
    "\n",
    "unsent = ['I love Python', 'I love Computer Science', 'I love Programming']\n",
    "sent = []\n",
    "\n",
    "mf.show_messages(unsent)\n",
    "mf.send_messages(unsent, sent)\n",
    "print('Unsent Messages:', unsent)\n",
    "print('Sent Messages:', sent)"
   ]
  }
 ],
 "metadata": {
  "language_info": {
   "codemirror_mode": {
    "name": "ipython",
    "version": 3
   },
   "file_extension": ".py",
   "mimetype": "text/x-python",
   "name": "python",
   "nbconvert_exporter": "python",
   "pygments_lexer": "ipython3",
   "version": 3
  },
  "orig_nbformat": 2
 },
 "nbformat": 4,
 "nbformat_minor": 2
}
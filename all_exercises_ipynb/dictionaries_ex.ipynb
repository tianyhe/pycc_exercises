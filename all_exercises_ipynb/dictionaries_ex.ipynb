{
 "cells": [
  {
   "cell_type": "markdown",
   "metadata": {},
   "source": [
    "### 6.1 - Person"
   ]
  },
  {
   "cell_type": "code",
   "execution_count": null,
   "metadata": {},
   "outputs": [],
   "source": [
    "liz = {'first_name': 'Liz', 'last_name': 'Zheng', 'age': 22, 'city': 'Shanghai'}\n",
    "print(liz['first_name'])\n",
    "print(liz['last_name'])\n",
    "print(liz['age'])\n",
    "print(liz['city'])"
   ]
  },
  {
   "cell_type": "markdown",
   "metadata": {},
   "source": [
    "### 6.2 - Favorite Numbers"
   ]
  },
  {
   "cell_type": "code",
   "execution_count": null,
   "metadata": {},
   "outputs": [],
   "source": [
    "favorite_number = {\n",
    "    'liz': 617,\n",
    "    'rico': 821,\n",
    "    'batu': 420,\n",
    "    'chasel': 1016,\n",
    "    'jessica': 99,\n",
    "}\n",
    "print(favorite_number['liz'])\n",
    "print(favorite_number['rico'])\n",
    "print(favorite_number['batu'])\n",
    "print(favorite_number['chasel'])\n",
    "print(favorite_number['jessica'])"
   ]
  },
  {
   "cell_type": "markdown",
   "metadata": {},
   "source": [
    "### 6.3 - Glossary"
   ]
  },
  {
   "cell_type": "code",
   "execution_count": null,
   "metadata": {},
   "outputs": [],
   "source": [
    "glossary = {\n",
    "    'variable': 'Every variable is connected to a value, which is the information associated with that variable.',\n",
    "    'string': 'A string is a series of characters.',\n",
    "    'float': 'Any number with a decimal point is a float.',\n",
    "    'list': 'A list is a collection of items in a particular order.',\n",
    "    'dictionary': 'A dictionary in Python is a collection of key-value pairs.'\n",
    "}\n",
    "print('\\nvariable:', glossary.get('variable'))\n",
    "print('\\nstring:', glossary.get('string'))\n",
    "print('\\nfloat:', glossary.get('float'))\n",
    "print('\\nlist:', glossary.get('list'))\n",
    "print('\\ndictionary:', glossary.get('dictionary'))"
   ]
  },
  {
   "cell_type": "markdown",
   "metadata": {},
   "source": [
    "### 6.4 - Glossary 2"
   ]
  },
  {
   "cell_type": "code",
   "execution_count": null,
   "metadata": {},
   "outputs": [],
   "source": [
    "glossary = {\n",
    "    'variable': 'Every variable is connected to a value, which is the information associated with that variable.',\n",
    "    'string': 'A string is a series of characters.',\n",
    "    'float': 'Any number with a decimal point is a float.',\n",
    "    'list': 'A list is a collection of items in a particular order.',\n",
    "    'dictionary': 'A dictionary in Python is a collection of key-value pairs.',\n",
    "    'set': 'A set is acollection in which each item must be unique'\n",
    "}\n",
    "\n",
    "for key, value in glossary.items():\n",
    "    print(f'{key}: {value}\\n')"
   ]
  },
  {
   "cell_type": "markdown",
   "metadata": {},
   "source": [
    "### 6.5 - Rivers"
   ]
  },
  {
   "cell_type": "code",
   "execution_count": null,
   "metadata": {},
   "outputs": [],
   "source": [
    "rivers = {\n",
    "    'nile': 'egypt',\n",
    "    'yangtze': 'china',\n",
    "    'donau': 'germany'\n",
    "}\n",
    "\n",
    "for river, country in rivers.items():\n",
    "    print(f'The {river.title()} runs through {country.title()}\\n')\n",
    "for river in rivers.keys():\n",
    "    print('Name of the river:', river.title(), '\\n')\n",
    "for country in rivers.values():\n",
    "    print('Name of the country:', country.title(), '\\n')"
   ]
  },
  {
   "cell_type": "markdown",
   "metadata": {},
   "source": [
    "### 6.6 - Polling"
   ]
  },
  {
   "cell_type": "code",
   "execution_count": null,
   "metadata": {},
   "outputs": [],
   "source": [
    "favorite_languages = {\n",
    "    'jen': 'python',\n",
    "    'sarah': 'c',\n",
    "    'edward': 'ruby',\n",
    "    'phil': 'python'\n",
    "}\n",
    "friends = ['jen', 'sarah', 'liz', 'joanne', 'jessica']\n",
    "\n",
    "for friend in friends:\n",
    "    if friend in favorite_languages.keys():\n",
    "        print(f'Hi {friend.title()}! Thank you for responding, love you!')\n",
    "    else:\n",
    "        print(f'{friend.title()} babe, please take the poll.')"
   ]
  },
  {
   "cell_type": "markdown",
   "metadata": {},
   "source": [
    "### 6.7 - People"
   ]
  },
  {
   "cell_type": "code",
   "execution_count": null,
   "metadata": {},
   "outputs": [],
   "source": [
    "liz = {'first_name': 'liz', 'last_name': 'zheng', 'age': 22, 'city': 'shanghai'}\n",
    "joanne = {'first_name': 'joanne', 'last_name': 'chan', 'age': 25, 'city': 'taiwan'}\n",
    "jessica = {'first_name': 'jessica', 'last_name': 'xing', 'age': 25, 'city': 'hongkong'}\n",
    "\n",
    "people = [liz, joanne, jessica]\n",
    "for babe in people:\n",
    "    full_name = f\"{babe['first_name']} {babe['last_name']}\"\n",
    "    print('\\n', full_name.title())\n",
    "    print('\\tAges:', babe['age'])\n",
    "    print('\\tCity:', babe['city'].title())"
   ]
  },
  {
   "cell_type": "markdown",
   "metadata": {},
   "source": [
    "### 6.8 - Pets"
   ]
  },
  {
   "cell_type": "code",
   "execution_count": null,
   "metadata": {},
   "outputs": [],
   "source": [
    "timo = {'animal': 'cat', 'owner': 'liz'}\n",
    "hamburger = {'animal': 'dog', 'owner': 'evelyn'}\n",
    "mimi = {'animal': 'cat', 'owner': 'timo'}\n",
    "\n",
    "pets = [timo, hamburger, mimi]\n",
    "for pet in pets:\n",
    "    print(f\"\\nType of animal: {pet['animal']} Owner: {pet['owner']}\")"
   ]
  },
  {
   "cell_type": "markdown",
   "metadata": {},
   "source": [
    "### 6.9 - Favorite Places"
   ]
  },
  {
   "cell_type": "code",
   "execution_count": null,
   "metadata": {},
   "outputs": [],
   "source": [
    "favorite_places = {\n",
    "    'liz': ['barcelona', 'lausanne', 'los angles'],\n",
    "    'joanne': ['barcelona', 'japan', 'hongkong'],\n",
    "    'jessica': ['amsterdam', 'bangkok', 'paris'],\n",
    "    'aliey' : ['shanghai']\n",
    "}\n",
    "\n",
    "for babe, places in favorite_places.items():\n",
    "    if len(places) > 1:\n",
    "        print(f\"\\n{babe.title()} favorite places are:\")\n",
    "        for place in places:\n",
    "            print(f\"\\t{place.title()}\")\n",
    "    else:\n",
    "        print(f\"\\n{babe.title()} favorite places is:\\n\\t{places[0].title()}\")"
   ]
  },
  {
   "cell_type": "markdown",
   "metadata": {},
   "source": [
    "### 6.10 - Favorite Numbers"
   ]
  },
  {
   "cell_type": "code",
   "execution_count": null,
   "metadata": {},
   "outputs": [],
   "source": [
    "favorite_number = {\n",
    "    'liz': [617, 821],\n",
    "    'rico': [821, 617],\n",
    "    'batu': [420, 911],\n",
    "    'chasel': [1016, 420],\n",
    "    'jessica': [99, 520]\n",
    "}\n",
    "for ppl, nums in favorite_number.items():\n",
    "    print(f\"\\n{ppl.title()}'s favorite numbers are:\", end=' ')\n",
    "    for num in nums:\n",
    "        print(num, end=' ')\n",
    "print('')"
   ]
  },
  {
   "cell_type": "markdown",
   "metadata": {},
   "source": [
    "### 6.11 - Cities"
   ]
  },
  {
   "cell_type": "code",
   "execution_count": null,
   "metadata": {},
   "outputs": [],
   "source": [
    "cities = {\n",
    "    'barcelona': {\n",
    "        'country': 'spain',\n",
    "        'population': 5_575_000,\n",
    "        'fact': 'The cosmopolitan capital of Spain’s Catalonia region, is known for its art and architecture.'\n",
    "    },\n",
    "    'amsterdam': {\n",
    "        'country': 'netherlands',\n",
    "        'population': 821_752,\n",
    "        'fact': 'Amsterdam is the Netherlands’ capital.'\n",
    "    },\n",
    "    'los angles': {\n",
    "        'country': 'america',\n",
    "        'population': 4_000_000,\n",
    "        'fact': 'Los Angeles is a sprawling Southern California city and the center of the nation’s film and television industry.'\n",
    "    }\n",
    "}\n",
    "\n",
    "for city, info in cities.items():\n",
    "    print(f\"\\nName of the city: {city.title()}\")\n",
    "    for key, value in info.items():\n",
    "        print(f\"\\t{key.title()}: {value}\")"
   ]
  }
 ],
 "metadata": {
  "language_info": {
   "codemirror_mode": {
    "name": "ipython",
    "version": 3
   },
   "file_extension": ".py",
   "mimetype": "text/x-python",
   "name": "python",
   "nbconvert_exporter": "python",
   "pygments_lexer": "ipython3",
   "version": 3
  },
  "orig_nbformat": 2
 },
 "nbformat": 4,
 "nbformat_minor": 2
}
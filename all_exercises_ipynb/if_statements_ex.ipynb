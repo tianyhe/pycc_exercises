{
 "cells": [
  {
   "cell_type": "markdown",
   "metadata": {},
   "source": [
    "### 5.1 - Conditional Tests"
   ]
  },
  {
   "cell_type": "code",
   "execution_count": null,
   "metadata": {},
   "outputs": [],
   "source": [
    "    # Test for equality and inequality with strings\n",
    "car = 'Audi'\n",
    "print(\"Is car == 'subaru'?\")\n",
    "print(car == 'subaru')\n",
    "print(\"Is car != 'BMW'?\")\n",
    "print(car != 'BMW')\n",
    "\n",
    "    # Test using lower() Method\n",
    "print(\"Is car == 'audi'?\")\n",
    "print(car.lower() == 'audi')\n",
    "\n",
    "    # Numerical tests involving equality and inequality, greater than and less than, greater than or equal to, and less than or equal to \n",
    "rico = 21\n",
    "liz = 18\n",
    "if rico != 21: \n",
    "    print('Rico is not 21 years old')\n",
    "if liz == 18: \n",
    "    print('Liz is 18 years old')\n",
    "if rico > 18: \n",
    "    print('Rico is more than 18 years old')\n",
    "if liz < 21: \n",
    "    print('Liz is under 21 years old')\n",
    "if rico >= 18: \n",
    "    print('Rico is at least 18 years old')\n",
    "if liz <= 21: \n",
    "    print('Liz is no more than 21 years old')\n",
    "\n",
    "    # Tests suing the 'and' keyword and the 'or' keyword\n",
    "if rico >= 18 and liz >= 18: \n",
    "    print('Rico and Liz are both at least 18 years old')\n",
    "if rico < 21 or liz < 21: \n",
    "    print('At least one them are under 21 years old')  \n",
    "\n",
    "    # Test whether an item is in a list\n",
    "pizzas = ['hawaiian', 'pepperoni', 'mozeralla']\n",
    "if 'hawaiian' in pizzas: \n",
    "    print('hawaiian is one of my favorite pizzas')\n",
    "    # Test whether an item is not in a list\n",
    "if 'four seasons' not in pizzas: \n",
    "    print('four season is not one of my favorite pizza')"
   ]
  },
  {
   "cell_type": "markdown",
   "metadata": {},
   "source": [
    "### 5.2 - Alien Colors 1 "
   ]
  },
  {
   "cell_type": "markdown",
   "metadata": {},
   "source": [
    "### 5.3 - Alien Colors 2"
   ]
  },
  {
   "cell_type": "code",
   "execution_count": null,
   "metadata": {},
   "outputs": [],
   "source": [
    "alien_color_2 ='red'\n",
    "if alien_color_2 != 'green':\n",
    "    print('You just earned 10 points')\n",
    "else:\n",
    "    print('You are died')"
   ]
  },
  {
   "cell_type": "markdown",
   "metadata": {},
   "source": [
    "### 5.4 - Alien Color 3"
   ]
  },
  {
   "cell_type": "code",
   "execution_count": null,
   "metadata": {},
   "outputs": [],
   "source": [
    "alien_color_3 = 'yellow'\n",
    "pts = 0\n",
    "if alien_color_3 == 'green':\n",
    "    pts = 5\n",
    "elif alien_color_3 == 'yellow':\n",
    "    pts = 10\n",
    "elif alien_color_3 == 'red':\n",
    "    pts = 15\n",
    "print(f'You just earned {pts} points')"
   ]
  },
  {
   "cell_type": "markdown",
   "metadata": {},
   "source": [
    "### 5.5 - Stages of life"
   ]
  },
  {
   "cell_type": "code",
   "execution_count": null,
   "metadata": {},
   "outputs": [],
   "source": [
    "age = 18\n",
    "if age < 2 :\n",
    "    print('The person is a baby')\n",
    "elif 2 <= age < 4:\n",
    "    print('The person is a toddler')\n",
    "elif 4 <= age < 13:\n",
    "    print('The person is a kid')\n",
    "elif 13 <= age < 20:\n",
    "    print('The person is a teenager')\n",
    "elif 20 <= age < 65:\n",
    "    print('The person is an adult')\n",
    "elif age >= 65:\n",
    "    print('The person is an elder')"
   ]
  },
  {
   "cell_type": "markdown",
   "metadata": {},
   "source": [
    "### 5.6 - Favorite Fruit"
   ]
  },
  {
   "cell_type": "code",
   "execution_count": null,
   "metadata": {},
   "outputs": [],
   "source": [
    "favorite_fruits = ['apple', 'banana', 'watermelon', 'lemon', 'strawberry']\n",
    "if 'apple' in favorite_fruits:\n",
    "    print('You really like apple!')\n",
    "if 'banana' in favorite_fruits:\n",
    "    print('You really like banana!')\n",
    "if 'watermelon' in favorite_fruits:\n",
    "    print('You really like watermelon!')\n",
    "if 'lemon' in favorite_fruits:\n",
    "    print('You really like lemon!')\n",
    "if 'strawberry' in favorite_fruits:\n",
    "    print('You really like strawberry!')"
   ]
  },
  {
   "cell_type": "markdown",
   "metadata": {},
   "source": [
    "### 5.7 & 5.8 - Hello Admin & if No users"
   ]
  },
  {
   "cell_type": "code",
   "execution_count": null,
   "metadata": {},
   "outputs": [],
   "source": [
    "usernames = ['Rico', 'Admin', 'Liz', 'Batu', 'Chasel', 'Shawn']\n",
    "if usernames:\n",
    "    for username in usernames:\n",
    "        if username == 'Admin':\n",
    "            print(f'Hello {username}, would you like to see a status report?')\n",
    "        else:\n",
    "            print(f'Hello {username}, thank you for logging in again.')\n",
    "else:\n",
    "    print('We need to find some users!')"
   ]
  },
  {
   "cell_type": "markdown",
   "metadata": {},
   "source": [
    "### 5.9 - Checking Usernames"
   ]
  },
  {
   "cell_type": "code",
   "execution_count": null,
   "metadata": {},
   "outputs": [],
   "source": [
    "current_users = usernames[:]\n",
    "new_users = ['rico', 'Kevin', 'liz', 'Joanne', 'Ailey', 'Jessica']\n",
    "for new_user in new_users:\n",
    "    if new_user in (user.lower() for user in current_users):\n",
    "        print(f'Sorry, the username \"{new_user}\" has been taken.')\n",
    "    else:\n",
    "        print(f'The username \"{new_user}\" is available')"
   ]
  },
  {
   "cell_type": "markdown",
   "metadata": {},
   "source": [
    "### 5.10 - Ordinal Numbers:"
   ]
  },
  {
   "cell_type": "code",
   "execution_count": null,
   "metadata": {},
   "outputs": [],
   "source": [
    "nums = list(range(1,10))\n",
    "for num in nums:\n",
    "    if num == 1:\n",
    "        print('1st')\n",
    "    elif num == 2:\n",
    "        print('2nd')\n",
    "    elif num == 3:\n",
    "        print('3rd')\n",
    "    elif num == 4:\n",
    "        print('4th')\n",
    "    elif num == 5:\n",
    "        print('5th')\n",
    "    elif num == 6:\n",
    "        print('6th')\n",
    "    elif num == 7:\n",
    "        print('7th')\n",
    "    elif num == 8:\n",
    "        print('8th')\n",
    "    elif num == 9:\n",
    "        print('9th')     "
   ]
  }
 ],
 "metadata": {
  "language_info": {
   "codemirror_mode": {
    "name": "ipython",
    "version": 3
   },
   "file_extension": ".py",
   "mimetype": "text/x-python",
   "name": "python",
   "nbconvert_exporter": "python",
   "pygments_lexer": "ipython3",
   "version": 3
  },
  "orig_nbformat": 2
 },
 "nbformat": 4,
 "nbformat_minor": 2
}
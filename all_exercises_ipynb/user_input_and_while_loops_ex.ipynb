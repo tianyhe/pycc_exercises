{
 "cells": [
  {
   "cell_type": "markdown",
   "metadata": {},
   "source": [
    "### 7.1 - Rental Car"
   ]
  },
  {
   "cell_type": "code",
   "execution_count": null,
   "metadata": {},
   "outputs": [],
   "source": [
    "car = input('What kind of rental car you would like?\\n')\n",
    "print(f\"Let me see if i can find you a {car}.\")"
   ]
  },
  {
   "cell_type": "markdown",
   "metadata": {},
   "source": [
    "### 7.2 - Restaurant Seating"
   ]
  },
  {
   "cell_type": "code",
   "execution_count": null,
   "metadata": {},
   "outputs": [],
   "source": [
    "ppl = input('How many people are in your dinner group?\\n')\n",
    "ppl = int(ppl)\n",
    "if ppl > 8:\n",
    "    print('You will have to wait for a table')\n",
    "else:\n",
    "    print('The table is ready')"
   ]
  },
  {
   "cell_type": "markdown",
   "metadata": {},
   "source": [
    "### 7.3 - Mutiples of Ten"
   ]
  },
  {
   "cell_type": "code",
   "execution_count": null,
   "metadata": {},
   "outputs": [],
   "source": [
    "num = input('Please enter a number:\\n')\n",
    "rm = int(num) % 10\n",
    "if rm != 0:\n",
    "    print('The number is not a mutiple of 10')\n",
    "else:\n",
    "    print('The number is a mutiple of 10')"
   ]
  },
  {
   "cell_type": "markdown",
   "metadata": {},
   "source": [
    "### 7.4 & 7.6 - Pizza Topping (Three Exits)"
   ]
  },
  {
   "cell_type": "code",
   "execution_count": null,
   "metadata": {},
   "outputs": [],
   "source": [
    "prompt = 'Please enter the toppings you would like: (Maximum # of toppings: 3)'\n",
    "prompt += \"\\n(Enter 'quit' when you are finished.)\\n\"\n",
    "num = 1\n",
    "allow = True\n",
    "while num <= 3 and allow:\n",
    "    topping = input(prompt)\n",
    "    if topping == 'quit':\n",
    "        break # Exit 1 - break statement\n",
    "    if len(topping) > 0:\n",
    "        print(f\"The '{topping}' were added to the pizza ({3 - num} left)'\")\n",
    "        num += 1 # Exit 2 - conditional test\n",
    "    else:\n",
    "        print('No topping added')\n",
    "        allow = False # Exit 3 - flag"
   ]
  },
  {
   "cell_type": "markdown",
   "metadata": {},
   "source": [
    "### 7.5 & 7.6 - Movie Tickets (Three Exits)"
   ]
  },
  {
   "cell_type": "code",
   "execution_count": null,
   "metadata": {},
   "outputs": [],
   "source": [
    "prompt = 'Please enter your age to check the ticket price (rate limits = 5)'\n",
    "prompt += \"\\n(Enter 'quit' to exit the program.)\\n\"\n",
    "rate = 1\n",
    "active = True\n",
    "while rate <= 5 and active:\n",
    "    age = input(prompt)\n",
    "    if age == 'quit':\n",
    "        break # Exit 1 - break statement\n",
    "    try:\n",
    "        age = int(age)\n",
    "        if int(age) < 3:\n",
    "            print(f'The ticket is free. ({5 - rate} left)')\n",
    "        elif 3 <= int(age) <= 12:\n",
    "            print(f'The ticket is $10. ({5 - rate} left)')\n",
    "        elif int(age) > 12:\n",
    "            print(f'The ticket is $15. ({5 - rate} left)')\n",
    "        rate += 1 # Exit 2 - conditional test\n",
    "    except:\n",
    "        active = False # Exit 3 - flag"
   ]
  },
  {
   "cell_type": "markdown",
   "metadata": {},
   "source": [
    "### 7.7 - Infinity"
   ]
  },
  {
   "cell_type": "code",
   "execution_count": null,
   "metadata": {},
   "outputs": [],
   "source": [
    "x = 1\n",
    "while x > 0:\n",
    "    print(x)"
   ]
  },
  {
   "cell_type": "markdown",
   "metadata": {},
   "source": [
    "### 7.8 - Deli"
   ]
  },
  {
   "cell_type": "code",
   "execution_count": null,
   "metadata": {},
   "outputs": [],
   "source": [
    "sandwich_orders = ['tuna sandwich', 'pastrami sandwich','chicken sandwich','chicken sandwich', 'pastrami sandwich', 'beef sandwich', 'pork sandwich', 'chicken sandwich','pastrami sandwich','lamb sandwich']\n",
    "finished_sandwiches = []\n",
    "while sandwich_orders:\n",
    "    current_sandwich = sandwich_orders.pop()\n",
    "    print(f\"I made your {current_sandwich}.\")\n",
    "    finished_sandwiches.append(current_sandwich)\n",
    "print('The following sandwiches have been made:')\n",
    "for sandwich in finished_sandwiches:\n",
    "    print(sandwich)"
   ]
  },
  {
   "cell_type": "markdown",
   "metadata": {},
   "source": [
    "### 7.9 - No Pastrami"
   ]
  },
  {
   "cell_type": "code",
   "execution_count": null,
   "metadata": {},
   "outputs": [],
   "source": [
    "print('\\nThe deli has run out of pastrami.')\n",
    "sandwich_orders = ['tuna sandwich', 'pastrami sandwich','chicken sandwich','chicken sandwich', 'pastrami sandwich', 'beef sandwich', 'pork sandwich', 'chicken sandwich','pastrami sandwich','lamb sandwich']\n",
    "finished_sandwiches = []\n",
    "    # Alternative approach to remove pastrami sandwiches from the orders\n",
    "# while 'pastrami sandwich' in sandwich_orders:\n",
    "#     sandwich_orders.remove('pastrami sandwich')\n",
    "# print(sandwich_orders)\n",
    "while sandwich_orders:\n",
    "    current_sandwich = sandwich_orders.pop()\n",
    "    if current_sandwich == 'pastrami sandwich':\n",
    "        print('Sorry, we run out of pastrami.')\n",
    "        continue\n",
    "    else:\n",
    "        print(f\"I made your {current_sandwich}.\")\n",
    "        finished_sandwiches.append(current_sandwich)\n",
    "print('The following sandwiches have been made:')\n",
    "for sandwich in finished_sandwiches:\n",
    "    print(sandwich)"
   ]
  },
  {
   "cell_type": "markdown",
   "metadata": {},
   "source": [
    "### 7.10 - Dream Vacation"
   ]
  },
  {
   "cell_type": "code",
   "execution_count": null,
   "metadata": {},
   "outputs": [],
   "source": [
    "responses = {}\n",
    "polling_active = True\n",
    "name_prompt = '\\nWhat is your name? '\n",
    "location_prompt = 'If you could visit one place in the world, where would you go? '\n",
    "repeat_prompt = 'Would you like another person to response? (yes/no)'\n",
    "while polling_active:\n",
    "    # Prompt for the person's name and response\n",
    "    name = input(name_prompt)\n",
    "    location = input(location_prompt)\n",
    "    # Store the response in the dictionary\n",
    "    responses[name] = location\n",
    "    # Find out if anyone else is going to take the poll\n",
    "    repeat = input(repeat_prompt)\n",
    "    if repeat == 'no':\n",
    "        polling_active = False\n",
    "# Polling is complete. Show the results:\n",
    "print('\\n--- Poll Results ---')\n",
    "for name, response in responses.items():\n",
    "    print(f\"{name.title()}: {response.title()}\")"
   ]
  }
 ],
 "metadata": {
  "language_info": {
   "codemirror_mode": {
    "name": "ipython",
    "version": 3
   },
   "file_extension": ".py",
   "mimetype": "text/x-python",
   "name": "python",
   "nbconvert_exporter": "python",
   "pygments_lexer": "ipython3",
   "version": 3
  },
  "orig_nbformat": 2
 },
 "nbformat": 4,
 "nbformat_minor": 2
}
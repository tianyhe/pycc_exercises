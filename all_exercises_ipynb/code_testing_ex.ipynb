{
 "cells": [
  {
   "cell_type": "markdown",
   "metadata": {},
   "source": [
    "### 11.1 & 11.2 - City, Countrys & Populations"
   ]
  },
  {
   "cell_type": "code",
   "execution_count": null,
   "metadata": {},
   "outputs": [],
   "source": [
    "def get_formatted_string(city_name, country_name, population=None):\n",
    "    \"\"\"Generate a neatly single string'City, Country' format\"\"\"\n",
    "    if population:\n",
    "        string = f\"{city_name.title()}, {country_name.title()} - population {population}\"\n",
    "    else:\n",
    "        string = f\"{city_name.title()}, {country_name.title()}\"\n",
    "    return string"
   ]
  },
  {
   "cell_type": "code",
   "execution_count": null,
   "metadata": {},
   "outputs": [],
   "source": [
    "import unittest\n",
    "\n",
    "from city_functions import get_formatted_string\n",
    "\n",
    "class StringsTestCase(unittest.TestCase):\n",
    "    \"\"\"Test for 'city_functions.py'\"\"\"\n",
    "\n",
    "    def test_city_country(self):\n",
    "        \"\"\"Do value with 'city' and 'country' work?\"\"\"\n",
    "        formatted_string = get_formatted_string('santiago', 'chile')\n",
    "        self.assertEqual(formatted_string, 'Santiago, Chile')\n",
    "\n",
    "    def test_city_country_population(self):\n",
    "        \"\"\"Do value with 'city, coutry, population' work?\"\"\"\n",
    "        formatted_string = get_formatted_string('santiago', 'chile', population=5000000)\n",
    "        self.assertEqual(formatted_string, 'Santiago, Chile - population 5000000')\n",
    "\n",
    "if __name__ == '__main__':\n",
    "    unittest.main()\n"
   ]
  },
  {
   "cell_type": "markdown",
   "metadata": {},
   "source": [
    "### 11.3 - Employee"
   ]
  },
  {
   "cell_type": "code",
   "execution_count": null,
   "metadata": {},
   "outputs": [],
   "source": [
    "class Employee():\n",
    "    \"\"\"A class to model an employee.\"\"\"\n",
    "\n",
    "    def __init__(self, first_name, last_name, annual_salary):\n",
    "        \"\"\"Initialize attributes to represent an employee.\"\"\"\n",
    "        self.first_name = first_name\n",
    "        self.last_name = last_name\n",
    "        self.annual_salary = annual_salary\n",
    "\n",
    "    def get_raise(self, amount_raise=5000):\n",
    "        \"\"\"Raise employee annual salary with a default value of 5k.\"\"\"\n",
    "        self.annual_salary += amount_raise"
   ]
  },
  {
   "cell_type": "code",
   "execution_count": null,
   "metadata": {},
   "outputs": [],
   "source": [
    "import unittest\n",
    "\n",
    "from employee import Employee\n",
    "\n",
    "class TestEmployee(unittest.TestCase):\n",
    "    \"\"\"Test for the class Employee.\"\"\"\n",
    "\n",
    "    def setUp(self):\n",
    "        \"\"\"Create a employee instance and a custom raise amount for use in all test method.\"\"\"\n",
    "        self.employee = Employee('rico', 'he', 100_000_000)\n",
    "        self.amount_raise = 100_000_000\n",
    "\n",
    "    def test_give_default_raise(self):\n",
    "        \"\"\"Test that if a default raise is add to the annual salary properly.\"\"\"\n",
    "        self.employee.get_raise()\n",
    "        self.assertEqual(self.employee.annual_salary, 100_005_000)\n",
    "\n",
    "    def test_give_custom_raise(self):\n",
    "        \"\"\"Test that if a custom raise is add to the annual salary properly.\"\"\"\n",
    "        self.employee.get_raise(self.amount_raise)\n",
    "        self.assertEqual(self.employee.annual_salary, 200_000_000)\n",
    "\n",
    "if __name__ == \"__main__\":\n",
    "    unittest.main()\n"
   ]
  },
  {
   "cell_type": "code",
   "execution_count": null,
   "metadata": {},
   "outputs": [],
   "source": []
  }
 ],
 "metadata": {
  "language_info": {
   "codemirror_mode": {
    "name": "ipython",
    "version": 3
   },
   "file_extension": ".py",
   "mimetype": "text/x-python",
   "name": "python",
   "nbconvert_exporter": "python",
   "pygments_lexer": "ipython3",
   "version": 3
  },
  "orig_nbformat": 2
 },
 "nbformat": 4,
 "nbformat_minor": 2
}
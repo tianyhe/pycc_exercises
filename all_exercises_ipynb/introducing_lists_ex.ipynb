{
 "cells": [
  {
   "cell_type": "markdown",
   "metadata": {},
   "source": [
    "### 3.1 - Names"
   ]
  },
  {
   "cell_type": "code",
   "execution_count": null,
   "metadata": {},
   "outputs": [],
   "source": [
    "names = ['Liz', 'Batu', 'Chasel', 'Shawn']\n",
    "print('My love:', names[0])\n",
    "print('My best friend:', names[1])\n",
    "print('My longest friend:', names[2])\n",
    "print('My 420 bro:', names[3])"
   ]
  },
  {
   "cell_type": "markdown",
   "metadata": {},
   "source": [
    "### 3.2 - Greetings"
   ]
  },
  {
   "cell_type": "code",
   "execution_count": null,
   "metadata": {},
   "outputs": [],
   "source": [
    "for i in range(len(names)):\n",
    "    message = f\"Hello {names[i]}, what's up?\"\n",
    "    print(message)"
   ]
  },
  {
   "cell_type": "markdown",
   "metadata": {},
   "source": [
    "### 3.3 - Your Own List"
   ]
  },
  {
   "cell_type": "code",
   "execution_count": null,
   "metadata": {},
   "outputs": [],
   "source": [
    "modes = ['motorcycle', 'car', 'private jet', 'helicopter']\n",
    "message = f'I would like to own a fucking {modes[2]}!'\n",
    "print(message)"
   ]
  },
  {
   "cell_type": "markdown",
   "metadata": {},
   "source": [
    "### 3.4 - Guest Lists"
   ]
  },
  {
   "cell_type": "code",
   "execution_count": null,
   "metadata": {},
   "outputs": [],
   "source": [
    "for i in range(len(guests)):\n",
    "    message = f'Good Evening {guests[i]}, please come by tonight at 6 pm sharpe for my dinner. Thank you!'\n",
    "    print(message)\n",
    "print('\\n')"
   ]
  },
  {
   "cell_type": "markdown",
   "metadata": {},
   "source": [
    "### 3.5 - Changing Guest List"
   ]
  },
  {
   "cell_type": "code",
   "execution_count": null,
   "metadata": {},
   "outputs": [],
   "source": [
    "print(f'Sadly, {guests[2]} can not make it to the dinner.')\n",
    "guests = ['Grandpa', 'Bill Gates', 'Steve Jobs']\n",
    "for i in range(len(guests)):\n",
    "    message = f'Good Evening {guests[i]}, please come by tonight at 6 pm sharpe for my dinner. Thank you!'\n",
    "    print(message)\n",
    "print('\\n')"
   ]
  },
  {
   "cell_type": "code",
   "execution_count": null,
   "metadata": {},
   "outputs": [],
   "source": [
    "### 3.6 - More Guests"
   ]
  },
  {
   "cell_type": "code",
   "execution_count": null,
   "metadata": {},
   "outputs": [],
   "source": [
    "print('Guys, i found a bigger dinner table')\n",
    "guests.insert(0, 'Eminem')\n",
    "guests.insert(2, 'Scarlett Johansson')\n",
    "guests.append('Warren Buffett')\n",
    "for i in range(len(guests)):\n",
    "    message = f'Good Evening {guests[i]}, please come by tonight at 6 pm sharpe for my dinner. Thank you!'\n",
    "    print(message)\n",
    "print('\\n')"
   ]
  },
  {
   "cell_type": "code",
   "execution_count": null,
   "metadata": {},
   "outputs": [],
   "source": [
    "### 3.7 - Shrinking Guest List"
   ]
  },
  {
   "cell_type": "code",
   "execution_count": null,
   "metadata": {},
   "outputs": [],
   "source": [
    "print('Sorry guys, table not gonna arrive in time. I can only invite two people')\n",
    "guest = guests.pop()\n",
    "print(f'Sorry {guest}, May be next time!')\n",
    "guest = guests.pop()\n",
    "print(f'Sorry {guest}, May be next time!')\n",
    "guest = guests.pop()\n",
    "print(f'Sorry {guest}, May be next time!')\n",
    "guest = guests.pop()\n",
    "print(f'Sorry {guest}, May be next time!')\n",
    "print(f'Congrats {guests[0]}, please come by tonight as we planned')\n",
    "print(f'Congrats {guests[1]}, please come by tonight as we planned')\n",
    "del guests[:]\n",
    "print(guests)"
   ]
  },
  {
   "cell_type": "markdown",
   "metadata": {},
   "source": [
    "### 3.8 - Seeing the World"
   ]
  },
  {
   "cell_type": "code",
   "execution_count": null,
   "metadata": {},
   "outputs": [],
   "source": [
    "locations = ['barcelona', 'montreux', 'amsterdam', 'los angles', 'cuba']\n",
    "print('Original List:', locations)\n",
    "    # alphabetical order without modifying the actual list\n",
    "print('\\nSorted Lists:', sorted(locations))\n",
    "    # Show the original list\n",
    "print('\\nOriginal List:', locations)\n",
    "    # reverse alphabetical order without modifying the actual list\n",
    "print('\\nTemp Reversed List:', sorted(locations, reverse=True))\n",
    "    # Show the original list\n",
    "print('\\nOriginal List:', locations)\n",
    "    # reverse() the list\n",
    "locations.reverse()\n",
    "print('\\nPerm Reversed List:', locations)\n",
    "    # reverse() the list again to change it back to original order\n",
    "locations.reverse()\n",
    "print('\\nOriginal List:', locations)\n",
    "    # sort() to permanently sort the list in alphabetical order\n",
    "locations.sort()\n",
    "print('\\nNew List:', locations)\n",
    "    # sort() to permanently sort the list in reverse alphabetical order\n",
    "locations.sort(reverse=True)\n",
    "print('\\nNew Reversed List:', locations)"
   ]
  },
  {
   "cell_type": "markdown",
   "metadata": {},
   "source": [
    "### 3.9 - Length of a List"
   ]
  },
  {
   "cell_type": "code",
   "execution_count": null,
   "metadata": {},
   "outputs": [],
   "source": [
    "print(f'\\nHow many cities that i wanna visit? The answer is : \" {len(locations)} \".')"
   ]
  }
 ],
 "metadata": {
  "language_info": {
   "codemirror_mode": {
    "name": "ipython",
    "version": 3
   },
   "file_extension": ".py",
   "mimetype": "text/x-python",
   "name": "python",
   "nbconvert_exporter": "python",
   "pygments_lexer": "ipython3",
   "version": 3
  },
  "orig_nbformat": 2
 },
 "nbformat": 4,
 "nbformat_minor": 2
}
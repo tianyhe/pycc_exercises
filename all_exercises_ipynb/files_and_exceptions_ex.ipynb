{
 "cells": [
  {
   "cell_type": "markdown",
   "metadata": {},
   "source": [
    "### 10.1 - Learning Python"
   ]
  },
  {
   "cell_type": "code",
   "execution_count": null,
   "metadata": {},
   "outputs": [],
   "source": [
    "file_name = 'learning_python.txt'\n",
    "file_path = f\"/Users/tianyaohe/GitHub/python_learning/pycc/8_files_and_exceptions/txt/{file_name}\"\n",
    "with open(file_path) as file_object:\n",
    "    content = file_object.read()\n",
    "\n",
    "print(\"---Reading the Entire File---\")\n",
    "print(content)\n",
    "\n",
    "with open(file_path) as file_object:\n",
    "    lines = file_object.readlines()\n",
    "\n",
    "print(\"---Looping Over the File Object---\")\n",
    "for line in lines:\n",
    "    print(line.strip())\n",
    "\n",
    "print(\"---Storing the line in a List---\")\n",
    "file_string = ''\n",
    "for line in lines:\n",
    "    file_string += line.strip()\n",
    "print(file_string)\n",
    "\n",
    "# 10.2 - Learning C\n",
    "print(\"---Replace 'Python' with 'C'---\")\n",
    "for line in lines:\n",
    "    print(line.replace('Python', 'C').strip())"
   ]
  },
  {
   "cell_type": "markdown",
   "metadata": {},
   "source": [
    "### 10.3 - Guest"
   ]
  },
  {
   "cell_type": "code",
   "execution_count": null,
   "metadata": {},
   "outputs": [],
   "source": [
    "guest_file_path = \"/Users/tianyaohe/GitHub/python_learning/pycc/8_files_and_exceptions/guest.txt\"\n",
    "with open(guest_file_path, 'w') as guest_file:\n",
    "    name = input('What is your name?\\n')\n",
    "    guest_file.write(name)"
   ]
  },
  {
   "cell_type": "markdown",
   "metadata": {},
   "source": [
    "### 10.4 - Guest Book"
   ]
  },
  {
   "cell_type": "code",
   "execution_count": null,
   "metadata": {},
   "outputs": [],
   "source": [
    "guestbook_file_path = \"/Users/tianyaohe/GitHub/python_learning/pycc/8_files_and_exceptions/guest_book.txt\"\n",
    "with open(guestbook_file_path, 'a') as guestbook_file:\n",
    "    while True:\n",
    "        name = input(\"What is your name? (enter 'q' to quit)\\n\")\n",
    "        if name == 'q':\n",
    "            break    \n",
    "        guestbook_file.write(f\"{name.title()}\\n\")\n",
    "        print(f\"Hi {name.title()}, welcome to my hotel!\")"
   ]
  },
  {
   "cell_type": "markdown",
   "metadata": {},
   "source": [
    "### 10.5 - Programming Poll"
   ]
  },
  {
   "cell_type": "code",
   "execution_count": null,
   "metadata": {},
   "outputs": [],
   "source": [
    "polling_file_path = \"/Users/tianyaohe/GitHub/python_learning/pycc/8_files_and_exceptions/polling_results.txt\"\n",
    "with open(polling_file_path, 'a') as polling_results_file:\n",
    "    while True:\n",
    "        response = input(\"Why you like programming? (enter 'q' to quit)\\n\")\n",
    "        if response == 'q':\n",
    "            break\n",
    "        polling_results_file.write(f\"{response}\\n\")"
   ]
  },
  {
   "cell_type": "markdown",
   "metadata": {},
   "source": [
    "### 10.6 & 10.7 - Addition & Addition Calculator"
   ]
  },
  {
   "cell_type": "code",
   "execution_count": null,
   "metadata": {},
   "outputs": [],
   "source": [
    "print(\"Give me two number, and I'll add them.\")\n",
    "print(\"Enter 'q' to quit.\")\n",
    "\n",
    "while True:\n",
    "    first_number = input(\"\\nFirst Number: \")\n",
    "    if first_number == 'q':\n",
    "        break\n",
    "    second_number = input(\"Second Number: \")\n",
    "    if second_number == 'q':\n",
    "        break\n",
    "\n",
    "    try:\n",
    "        first_number = int(first_number)\n",
    "        second_number = int(second_number)\n",
    "    except ValueError:\n",
    "        print(\"Invalid Input. You must enter numeric value for both input\")\n",
    "        pass\n",
    "    else:\n",
    "        result = first_number + second_number\n",
    "        print(f\"Result: {result}\")"
   ]
  },
  {
   "cell_type": "markdown",
   "metadata": {},
   "source": [
    "### 10.8 & 10.9 - Cats and Dogs & Silent Cats and Dogs"
   ]
  },
  {
   "cell_type": "code",
   "execution_count": null,
   "metadata": {},
   "outputs": [],
   "source": [
    "def read_files(path, file_name):\n",
    "    \"\"\"Read a file and print the content of the file\"\"\"\n",
    "    file_path = path + file_name\n",
    "    try:\n",
    "        with open(file_path) as fhand:\n",
    "            lines = fhand.readlines()\n",
    "    except FileNotFoundError:\n",
    "        print(f\"\\nWe can't locate the file under the following path: {file_path}\")\n",
    "        #pass\n",
    "    else:\n",
    "        print(f\"\\n---{file_path}---\")\n",
    "        for line in lines:\n",
    "            print(line.strip())\n",
    "\n",
    "path = '8_files_and_exceptions/txt/'\n",
    "\n",
    "read_files(path, 'cats.txt')\n",
    "read_files(path, 'dogs.txt')"
   ]
  },
  {
   "cell_type": "code",
   "execution_count": null,
   "metadata": {},
   "outputs": [],
   "source": [
    "### 10.10 - Common Words"
   ]
  },
  {
   "cell_type": "code",
   "execution_count": null,
   "metadata": {},
   "outputs": [],
   "source": [
    "def read_files(path, file_name):\n",
    "    \"\"\"Read a file and print the content of the file\"\"\"\n",
    "    file_path = path + file_name\n",
    "    try:\n",
    "        with open(file_path) as fhand:\n",
    "            lines = fhand.readlines()\n",
    "    except FileNotFoundError:\n",
    "        print(f\"\\nWe can't locate the file under the following path: {file_path}\")\n",
    "        #pass\n",
    "    else:\n",
    "        print(f\"\\n---{file_path}---\")\n",
    "        for line in lines:\n",
    "            print(line.strip())\n",
    "\n",
    "path = '8_files_and_exceptions/txt/'\n",
    "\n",
    "read_files(path, 'cats.txt')\n",
    "read_files(path, 'dogs.txt')\n",
    "\n",
    "# 10.10 - Common Words\n",
    "def count_words(path, file_name, word=None):\n",
    "    \"\"\"Count the approximate number of words in given path file.\"\"\"\n",
    "    file_path = path + file_name\n",
    "    try:\n",
    "        with open(file_path) as fhand:\n",
    "            contents = fhand.read()\n",
    "    except FileNotFoundError:\n",
    "        print(f\"\\nWe can't locate the file under the following path: {file_path}\")\n",
    "    else:\n",
    "        words = contents.split()\n",
    "        if word is None:        \n",
    "            num_words = len(words)\n",
    "            print(f\"The file has about {num_words} words.\")\n",
    "        \n",
    "        else:\n",
    "            # words = [word.lower() for word in words]\n",
    "            # num_words = words.count(word)\n",
    "            num_words = contents.count(word)\n",
    "            print(f\"The word '{word}' appears {num_words} times in the txt.\")\n",
    "\n",
    "path = '8_files_and_exceptions/txt/'\n",
    "\n",
    "count_words(path, 'moby_dick.txt')\n",
    "count_words(path, 'moby_dick.txt', 'the')\n",
    "count_words(path, 'moby_dick.txt', 'the ')\n"
   ]
  },
  {
   "cell_type": "markdown",
   "metadata": {},
   "source": [
    "### 10.11 & 10.12  - Favoirte Number & Favorite Number Remembered"
   ]
  },
  {
   "cell_type": "code",
   "execution_count": null,
   "metadata": {},
   "outputs": [],
   "source": [
    "import json\n",
    "\n",
    "def get_stored_favorite_number(file_path):\n",
    "    \"\"\"Get stored favorite number if avaliable.\"\"\"\n",
    "    try:\n",
    "        with open(file_path) as fhand:\n",
    "            favorite_number = json.load(fhand)\n",
    "    except FileNotFoundError:\n",
    "        return None\n",
    "    else:\n",
    "        return favorite_number\n",
    "\n",
    "def get_new_favorite_number(file_path):\n",
    "    \"\"\"Prompt for a new favorite number\"\"\"\n",
    "    favorite_number = input(\"What is your favorite number?\\n\")\n",
    "    with open(file_path, 'w') as fhand:\n",
    "        json.dump(favorite_number, fhand)\n",
    "    return favorite_number\n",
    "\n",
    "def favorite_number(file_path):\n",
    "    \"\"\"Report the favorite number to the user\"\"\"\n",
    "    favorite_number = get_stored_favorite_number(file_path)\n",
    "    if favorite_number:\n",
    "        print(f\"I know your favorite number! It's {favorite_number}.\")\n",
    "    else:\n",
    "        favorite_number = get_new_favorite_number(file_path)\n",
    "        print(\"Your favorite number has been stored.\")\n",
    "\n",
    "path = '8_files_and_exceptions/json/'\n",
    "file_name = 'favorite_number.json'\n",
    "file_path = path + file_name\n",
    "\n",
    "favorite_number(file_path)\n"
   ]
  },
  {
   "cell_type": "markdown",
   "metadata": {},
   "source": [
    "### 10.13 - Verify User"
   ]
  },
  {
   "cell_type": "code",
   "execution_count": null,
   "metadata": {},
   "outputs": [],
   "source": [
    "import json\n",
    "\n",
    "def verify_username(file_path):\n",
    "    \"\"\"Verify if the current user is the user last used the program or not.\"\"\"\n",
    "    username = get_stored_username(file_path)\n",
    "    ans = input(f\"Is your username '{username}'? (Please enter 'y'/'n')\\n\")\n",
    "    if ans == 'y':\n",
    "        return username\n",
    "    elif ans == 'n':\n",
    "        return False\n",
    "\n",
    "def get_stored_username(file_path):\n",
    "    \"\"\"Get stored username if avaliable.\"\"\"\n",
    "    try:\n",
    "        with open(file_path) as fhand:\n",
    "            username = json.load(fhand)\n",
    "    except FileNotFoundError:\n",
    "        return None\n",
    "    else:\n",
    "        return username\n",
    "\n",
    "def get_new_username(file_path):\n",
    "    \"\"\"Prompt for a new username.\"\"\"\n",
    "    username = input(\"What's your name?\\n\")\n",
    "    with open(file_path, 'w') as fhand:\n",
    "        json.dump(username, fhand)\n",
    "    return username\n",
    "\n",
    "def greet_user(file_path):\n",
    "    \"\"\"Greet the user by name.\"\"\"\n",
    "    username = verify_username(file_path)\n",
    "    if username:\n",
    "        print(f\"Welcome back, {username}!\")\n",
    "    else:\n",
    "        username = get_new_username(file_path)\n",
    "        print(f\"We'll remember you when you come back, {username}!\")\n",
    "\n",
    "path = '8_files_and_exceptions/json/'\n",
    "file_name = 'username.json'\n",
    "file_path = path + file_name\n",
    "\n",
    "greet_user(file_path)\n"
   ]
  },
  {
   "cell_type": "code",
   "execution_count": null,
   "metadata": {},
   "outputs": [],
   "source": []
  }
 ],
 "metadata": {
  "language_info": {
   "codemirror_mode": {
    "name": "ipython",
    "version": 3
   },
   "file_extension": ".py",
   "mimetype": "text/x-python",
   "name": "python",
   "nbconvert_exporter": "python",
   "pygments_lexer": "ipython3",
   "version": 3
  },
  "orig_nbformat": 2
 },
 "nbformat": 4,
 "nbformat_minor": 2
}